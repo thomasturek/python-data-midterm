{
  "metadata": {
    "kernelspec": {
      "name": "python",
      "display_name": "Python (Pyodide)",
      "language": "python"
    },
    "language_info": {
      "codemirror_mode": {
        "name": "python",
        "version": 3
      },
      "file_extension": ".py",
      "mimetype": "text/x-python",
      "name": "python",
      "nbconvert_exporter": "python",
      "pygments_lexer": "ipython3",
      "version": "3.8"
    }
  },
  "nbformat_minor": 4,
  "nbformat": 4,
  "cells": [
    {
      "cell_type": "code",
      "source": "# Fetcher\n\nimport pandas as pd\n\ndf_exr = pd.read_csv('data/exr.csv')\n\ndf_gpn = pd.read_csv('data/gpn.csv')\n\ndf_jpm = pd.read_csv('data/jpm.csv')\n\ndf_mktx = pd.read_csv('data/mktx.csv')\n\ndataframe_list = []\n\ndataframe_list.append(df_exr)\ndataframe_list.append(df_gpn)\ndataframe_list.append(df_jpm)\ndataframe_list.append(df_mktx)",
      "metadata": {
        "trusted": true
      },
      "outputs": [],
      "execution_count": 10
    },
    {
      "cell_type": "code",
      "source": "# Task 1\n\nsame_open_and_close = []\n\nfor i in range(3):\n\n    if(dataframe_list[i][\"Open\"].equals(dataframe_list[i][\"Close\"])):\n\n        same_open_and_close.append(dataframe_list[i])\n\nif not same_open_and_close:\n    print(\"No stock had the same open and close columns.\")\nelse: \n    print(same_open_and_close)\n",
      "metadata": {
        "trusted": true
      },
      "outputs": [
        {
          "name": "stdout",
          "text": "No stock had the same open and close columns.\n",
          "output_type": "stream"
        }
      ],
      "execution_count": 22
    },
    {
      "cell_type": "code",
      "source": "# Task 2\n\nEXR = dataframe_list[0]\nGPN = dataframe_list[1]\nJPM = dataframe_list[2]\nMKTX = dataframe_list[3]\n\nmax_index = [EXR[\"Close\"].max(), GPN[\"Close\"].max(), JPM[\"Close\"].max(), MKTX[\"Close\"].max()]\n\nmin_index = [EXR[\"Close\"].min(), GPN[\"Close\"].min(), JPM[\"Close\"].min(), MKTX[\"Close\"].min()]\n\nprint(\"Highest closes for EXR: \", max_index[0])\nprint(\"Highest closes for GPN: \", max_index[1])\nprint(\"Highest closes for JPM: \", max_index[2])\nprint(\"Highest closes for MKTX: \", max_index[3])\n\nprint(\"Lowest closes for EXR: \", min_index[0])\nprint(\"Lowest closes for GPN: \", min_index[1])\nprint(\"Lowest closes for JPM: \", min_index[2])\nprint(\"Lowest closes for MKTX: \", min_index[3])",
      "metadata": {
        "trusted": true
      },
      "outputs": [
        {
          "name": "stdout",
          "text": "Highest closes for EXR:  203.31\nHighest closes for GPN:  213.067\nHighest closes for JPM:  157.933\nHighest closes for MKTX:  567.856\nLowest closes for EXR:  54.108\nLowest closes for GPN:  68.01\nLowest closes for JPM:  66.641\nLowest closes for MKTX:  140.531\n",
          "output_type": "stream"
        }
      ],
      "execution_count": 23
    },
    {
      "cell_type": "code",
      "source": "# Task 3\n\nimport numpy as np\n\nnp.random.seed(0)\n\ndataframes = [EXR, GPN, JPM, MKTX]\nnames = ['EXR', 'GPN', 'JPM', 'MKTX']\n\nstats = []\n\nfor df, name in zip(dataframes, names):\n    \n    stat = pd.DataFrame(100 + np.random.randn(100).cumsum(), columns=['price'])\n\n    stat['pct_change'] = stat.price.pct_change()\n    \n    stat['log_ret'] = np.log(stat.price) - np.log(stat.price.shift(1))\n    \n    stats.append(EXR['log_ret'])\n\nprint(\"Stats for EXR: \", stats[0].describe())\nprint(\"Stats for GPN: \", stats[1].describe())\nprint(\"Stats for JPM: \", stats[2].describe())\nprint(\"Stats for MKTX: \", stats[3].describe())",
      "metadata": {
        "trusted": true
      },
      "outputs": [
        {
          "name": "stdout",
          "text": "Stats for EXR:  count    99.000000\nmean     -0.000067\nstd       0.010639\nmin      -0.027533\n25%      -0.006173\n50%       0.000596\n75%       0.007868\nmax       0.027035\nName: log_ret, dtype: float64\nStats for GPN:  count    99.000000\nmean     -0.000067\nstd       0.010639\nmin      -0.027533\n25%      -0.006173\n50%       0.000596\n75%       0.007868\nmax       0.027035\nName: log_ret, dtype: float64\nStats for JPM:  count    99.000000\nmean     -0.000067\nstd       0.010639\nmin      -0.027533\n25%      -0.006173\n50%       0.000596\n75%       0.007868\nmax       0.027035\nName: log_ret, dtype: float64\nStats for MKTX:  count    99.000000\nmean     -0.000067\nstd       0.010639\nmin      -0.027533\n25%      -0.006173\n50%       0.000596\n75%       0.007868\nmax       0.027035\nName: log_ret, dtype: float64\n",
          "output_type": "stream"
        }
      ],
      "execution_count": 45
    },
    {
      "cell_type": "code",
      "source": "# Task 4\n\ndataframes = [EXR, GPN, JPM, MKTX]\nnames = ['EXR', 'GPN', 'JPM', 'MKTX']\n\nmax_index = []\nmin_index = []\n\nfor df, name in zip(dataframes, names):\n    \n    max_idx = df['log_ret'].idxmax()\n    min_idx = df['log_ret'].idxmin()\n    max_index.append((name, max_idx))\n    min_index.append((name, min_idx))\n\nprint(\"Company and day for maximum:\")\nfor name, idx in max_index:\n    print({name}, {idx})\n\nprint(\"Company and day for minimum:\")\nfor name, idx in min_index:\n    print({name}, {idx})",
      "metadata": {
        "trusted": true
      },
      "outputs": [
        {
          "name": "stdout",
          "text": "Company and day for maximum:\n{'EXR'} {3}\n{'GPN'} {44}\n{'JPM'} {92}\n{'MKTX'} {27}\nCompany and day for minimum:\n{'EXR'} {20}\n{'GPN'} {83}\n{'JPM'} {71}\n{'MKTX'} {34}\n",
          "output_type": "stream"
        }
      ],
      "execution_count": 43
    },
    {
      "cell_type": "code",
      "source": "# Task 5\n\nprint(df_exr[\"Volume\"].mean())\nprint(df_gpn[\"Volume\"].mean())\nprint(df_jpm[\"Volume\"].mean())\nprint(df_mktx[\"Volume\"].mean())",
      "metadata": {
        "trusted": true
      },
      "outputs": [
        {
          "name": "stdout",
          "text": "906626.2913907284\n1668561.8543046357\n14454464.437086092\n277265.8278145695\n",
          "output_type": "stream"
        }
      ],
      "execution_count": 48
    },
    {
      "cell_type": "code",
      "source": "",
      "metadata": {
        "trusted": true
      },
      "outputs": [],
      "execution_count": null
    },
    {
      "cell_type": "code",
      "source": "",
      "metadata": {
        "trusted": true
      },
      "outputs": [],
      "execution_count": null
    }
  ]
}